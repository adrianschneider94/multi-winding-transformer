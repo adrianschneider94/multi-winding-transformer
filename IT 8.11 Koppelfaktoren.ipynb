{
 "cells": [
  {
   "cell_type": "code",
   "execution_count": 1,
   "id": "af856ad7",
   "metadata": {},
   "outputs": [],
   "source": [
    "import sympy as sp\n",
    "import numpy as np\n",
    "from numpy.linalg import solve\n",
    "\n",
    "L_pp, L_ss, k_a, k_b, u_e, omega = sp.symbols(\"L_{pp}, L_{ss}, k_a, k_b, u_e, \\omega\", real=True)\n",
    "\n",
    "n = 5\n",
    "A_ = sp.MatrixSymbol(\"\\mathbf{A}\", 2*n, 2*n)\n",
    "L_ = sp.MatrixSymbol(\"\\mathbf{L}\", n, n)\n",
    "E1_ = sp.MatrixSymbol(\"\\mathbf{E_1}\", n, n)\n",
    "E2_ = sp.MatrixSymbol(\"\\mathbf{E_2}\", n, n)\n",
    "e_ = sp.MatrixSymbol(\"\\mathbf{e}\", n, 1)\n",
    "b_ = sp.MatrixSymbol(\"\\mathbf{b}\", 2*n, 1)\n",
    "u_ = sp.MatrixSymbol(\"\\mathbf{u}\", n, 1)\n",
    "i_ = sp.MatrixSymbol(\"\\mathbf{i}\", n, 1)\n",
    "x_ = sp.MatrixSymbol(\"\\mathbf{x}\", 2*n, 1)\n"
   ]
  },
  {
   "cell_type": "markdown",
   "id": "51362e76",
   "metadata": {},
   "source": [
    "# IT 8.10/IT 8.11 Impedanzmatritzen\n",
    "\n",
    "Bei einem Mehrwicklungstrafo benötigt man einige Parameter, um das Verhalten zu bestimmen.\n",
    "\n",
    "Bei Messungen konnten einige Symmetrien erkannt werden, um das System zu beschreiben, werden folgende Parameter verwendet:\n",
    "\n",
    "  * $L_{pp}$: Die Selbstinduktivität einer Primärwicklung\n",
    "  * $L_{ss}$: Die Selbstinduktivität der Sekundärwicklung\n",
    "  * $k_a$: Der Koppelfaktor zwischen zwei nebeneinander liegenden Primärwicklungen\n",
    "  * $k_b$: Der Koppelfaktor zwischen einer Primär- und der Sekundärwicklung.\n",
    "  \n",
    "Kopplungen zwischen entfernter liegenden Primärwicklungen sind sehr klein und werden ignoriert.\n",
    "\n",
    "Mit \n",
    "\n",
    "$$\n",
    "M_{ij} = k_{ij}\\sqrt{L_{ii} L_{jj}}\n",
    "$$\n",
    "\n",
    "erhält man als Systemgleichung:\n",
    "\n",
    "$$\n",
    "\\begin{pmatrix}\n",
    "  u_1 \\\\\n",
    "  u_2 \\\\\n",
    "  u_3 \\\\\n",
    "  u_4 \\\\\n",
    "  u_s\n",
    "\\end{pmatrix} = j\\omega\n",
    "\\begin{pmatrix}\n",
    "  L_{pp}                  & k_a L_{pp}              & 0                       & 0                       & k_b\\sqrt{L_{pp} L_{ss}} \\\\\n",
    "  k_a L_{pp}              & L_{pp}                  & k_a L_{pp}              & 0                       & k_b\\sqrt{L_{pp} L_{ss}} \\\\\n",
    "  0                       & k_a L_{pp}              & L_{pp}                  & k_a L_{pp}              & k_b\\sqrt{L_{pp} L_{ss}} \\\\\n",
    "  0                       & 0                       & k_a L_{pp}              & L_{pp}                  & k_b\\sqrt{L_{pp} L_{ss}} \\\\\n",
    "  k_b\\sqrt{L_{pp} L_{ss}} & k_b\\sqrt{L_{pp} L_{ss}} & k_b\\sqrt{L_{pp} L_{ss}} & k_b\\sqrt{L_{pp} L_{ss}} & L_{ss} \\\\\n",
    "\\end{pmatrix}\n",
    "\\begin{pmatrix}\n",
    "  i_1 \\\\\n",
    "  i_2 \\\\\n",
    "  i_3 \\\\\n",
    "  i_4 \\\\\n",
    "  i_s\n",
    "\\end{pmatrix}\n",
    "$$"
   ]
  },
  {
   "cell_type": "code",
   "execution_count": 2,
   "id": "6e8c36cb",
   "metadata": {},
   "outputs": [],
   "source": [
    "L = sp.Matrix([\n",
    "  [L_pp, k_a*L_pp, 0, 0, k_b*sp.sqrt(L_pp*L_ss)],\n",
    "  [k_a*L_pp, L_pp, k_a*L_pp, 0, k_b*sp.sqrt(L_pp*L_ss)],\n",
    "  [0, k_a*L_pp, L_pp, k_a*L_pp, k_b*sp.sqrt(L_pp*L_ss)],\n",
    "  [0, 0, k_a*L_pp, L_pp, k_b*sp.sqrt(L_pp*L_ss)],\n",
    "  [k_b*sp.sqrt(L_pp*L_ss), k_b*sp.sqrt(L_pp*L_ss), k_b*sp.sqrt(L_pp*L_ss), k_b*sp.sqrt(L_pp*L_ss), L_ss]\n",
    "])"
   ]
  },
  {
   "cell_type": "markdown",
   "id": "0583c301",
   "metadata": {},
   "source": [
    "Um aus dieser Matrix nun Werte abzuleiten, muss man das System in Tableaugleichungen überführen:\n",
    "\n",
    "$$\n",
    "    \\mathbf{0} = \\begin{pmatrix}\\mathbf{1} & -j\\omega \\mathbf{L} \\\\\\mathbf{E_1} & \\mathbf{E_2}\\end{pmatrix} \\cdot \\begin{pmatrix}\\mathbf{u}\\\\\\mathbf{i}\\end{pmatrix} - \\begin{pmatrix}\\mathbf{0} \\\\\\mathbf{e}\\end{pmatrix}\\text{,}\n",
    "$$\n",
    "\n",
    "wobei mit $\\mathbf{E_1}$, $\\mathbf{E_2}$ und $\\mathbf{e}$ die Erregung beschrieben werden kann.\n",
    "\n",
    "Für Leerlauf bei allen Ports (Strom $i$ ist $0$) wäre beispielsweise $\\mathbf{E_2}$ die Einheitsmatrix und $\\mathbf{e}_i = 0$.\n",
    "\n",
    "Einfachheitshalber werden im folgenden die Spannungen mit $u' = u/(j\\omega)$ skaliert, dadurch wird das System leichter:\n",
    "\n",
    "$$\n",
    "    \\mathbf{0} = \\begin{pmatrix}\\mathbf{1} & -\\mathbf{L} \\\\\\mathbf{E_1} & \\mathbf{E_2}\\end{pmatrix} \\cdot \\begin{pmatrix}\\mathbf{u'}\\\\\\mathbf{i}\\end{pmatrix} - \\begin{pmatrix}\\mathbf{0} \\\\\\mathbf{e'}\\end{pmatrix}\\text{,}\n",
    "$$\n",
    "\n",
    "Bei der Erregung $e$ muss man jeweils auch darauf achten. Dieser Ansatz funktioniert nur, solange nur frequenzabhängige Elemente vorhanden sind. Wären ohmsche Widerstände dabei, würde diese Normierung das System komplizierter machen."
   ]
  },
  {
   "cell_type": "markdown",
   "id": "77bdab40",
   "metadata": {},
   "source": [
    "## Kurzschlussinduktivität bei paralleler Einspeisung"
   ]
  },
  {
   "cell_type": "code",
   "execution_count": 3,
   "id": "6fc49550",
   "metadata": {},
   "outputs": [
    {
     "data": {
      "text/latex": [
       "$\\displaystyle \\mathbf{E_1} = \\left[\\begin{matrix}1 & 0 & 0 & 0 & 0\\\\1 & -1 & 0 & 0 & 0\\\\1 & 0 & -1 & 0 & 0\\\\1 & 0 & 0 & -1 & 0\\\\0 & 0 & 0 & 0 & 1\\end{matrix}\\right]$"
      ],
      "text/plain": [
       "Eq(\\mathbf{E_1}, Matrix([\n",
       "[1,  0,  0,  0, 0],\n",
       "[1, -1,  0,  0, 0],\n",
       "[1,  0, -1,  0, 0],\n",
       "[1,  0,  0, -1, 0],\n",
       "[0,  0,  0,  0, 1]]))"
      ]
     },
     "metadata": {},
     "output_type": "display_data"
    },
    {
     "data": {
      "text/latex": [
       "$\\displaystyle \\mathbf{E_2} = \\left[\\begin{matrix}0 & 0 & 0 & 0 & 0\\\\0 & 0 & 0 & 0 & 0\\\\0 & 0 & 0 & 0 & 0\\\\0 & 0 & 0 & 0 & 0\\\\0 & 0 & 0 & 0 & 0\\end{matrix}\\right]$"
      ],
      "text/plain": [
       "Eq(\\mathbf{E_2}, Matrix([\n",
       "[0, 0, 0, 0, 0],\n",
       "[0, 0, 0, 0, 0],\n",
       "[0, 0, 0, 0, 0],\n",
       "[0, 0, 0, 0, 0],\n",
       "[0, 0, 0, 0, 0]]))"
      ]
     },
     "metadata": {},
     "output_type": "display_data"
    },
    {
     "data": {
      "text/latex": [
       "$\\displaystyle \\mathbf{e} = \\left[\\begin{matrix}u_{e}\\\\0\\\\0\\\\0\\\\0\\end{matrix}\\right]$"
      ],
      "text/plain": [
       "Eq(\\mathbf{e}, Matrix([\n",
       "[u_e],\n",
       "[  0],\n",
       "[  0],\n",
       "[  0],\n",
       "[  0]]))"
      ]
     },
     "metadata": {},
     "output_type": "display_data"
    }
   ],
   "source": [
    "E1 = sp.Matrix([\n",
    "    [1,  0, 0, 0, 0],\n",
    "    [1, -1, 0, 0, 0],\n",
    "    [1,  0, -1, 0, 0],\n",
    "    [1,  0, 0, -1, 0],\n",
    "    [0,  0, 0, 0, 1],\n",
    "])\n",
    "\n",
    "display(sp.Eq(E1_, E1))\n",
    "\n",
    "E2 = sp.Matrix([\n",
    "    [0, 0, 0, 0, 0],\n",
    "    [0, 0, 0, 0, 0],\n",
    "    [0, 0, 0, 0, 0],\n",
    "    [0, 0, 0, 0, 0],\n",
    "    [0, 0, 0, 0, 0],\n",
    "])\n",
    "\n",
    "display(sp.Eq(E2_, E2))\n",
    "\n",
    "e = sp.Matrix([u_e, 0, 0, 0, 0])\n",
    "display(sp.Eq(e_, e))"
   ]
  },
  {
   "cell_type": "markdown",
   "id": "c2f03160",
   "metadata": {},
   "source": [
    "Man erhält so ein lineares Gleichungssystem\n",
    "\n",
    "$$\n",
    "0 = \\mathbf{Ax - b}\n",
    "$$\n",
    "\n",
    "mit"
   ]
  },
  {
   "cell_type": "code",
   "execution_count": 4,
   "id": "bdb8b9c4",
   "metadata": {},
   "outputs": [
    {
     "data": {
      "text/latex": [
       "$\\displaystyle \\mathbf{A} = \\left[\\begin{matrix}1 & 0 & 0 & 0 & 0 & - L_{pp} & - L_{pp} k_{a} & 0 & 0 & - k_{b} \\sqrt{L_{pp} L_{ss}}\\\\0 & 1 & 0 & 0 & 0 & - L_{pp} k_{a} & - L_{pp} & - L_{pp} k_{a} & 0 & - k_{b} \\sqrt{L_{pp} L_{ss}}\\\\0 & 0 & 1 & 0 & 0 & 0 & - L_{pp} k_{a} & - L_{pp} & - L_{pp} k_{a} & - k_{b} \\sqrt{L_{pp} L_{ss}}\\\\0 & 0 & 0 & 1 & 0 & 0 & 0 & - L_{pp} k_{a} & - L_{pp} & - k_{b} \\sqrt{L_{pp} L_{ss}}\\\\0 & 0 & 0 & 0 & 1 & - k_{b} \\sqrt{L_{pp} L_{ss}} & - k_{b} \\sqrt{L_{pp} L_{ss}} & - k_{b} \\sqrt{L_{pp} L_{ss}} & - k_{b} \\sqrt{L_{pp} L_{ss}} & - L_{ss}\\\\1 & 0 & 0 & 0 & 0 & 0 & 0 & 0 & 0 & 0\\\\1 & -1 & 0 & 0 & 0 & 0 & 0 & 0 & 0 & 0\\\\1 & 0 & -1 & 0 & 0 & 0 & 0 & 0 & 0 & 0\\\\1 & 0 & 0 & -1 & 0 & 0 & 0 & 0 & 0 & 0\\\\0 & 0 & 0 & 0 & 1 & 0 & 0 & 0 & 0 & 0\\end{matrix}\\right]$"
      ],
      "text/plain": [
       "Eq(\\mathbf{A}, Matrix([\n",
       "[1,  0,  0,  0, 0,                  -L_{pp},              -L_{pp}*k_a,                        0,                        0, -k_b*sqrt(L_{pp}*L_{ss})],\n",
       "[0,  1,  0,  0, 0,              -L_{pp}*k_a,                  -L_{pp},              -L_{pp}*k_a,                        0, -k_b*sqrt(L_{pp}*L_{ss})],\n",
       "[0,  0,  1,  0, 0,                        0,              -L_{pp}*k_a,                  -L_{pp},              -L_{pp}*k_a, -k_b*sqrt(L_{pp}*L_{ss})],\n",
       "[0,  0,  0,  1, 0,                        0,                        0,              -L_{pp}*k_a,                  -L_{pp}, -k_b*sqrt(L_{pp}*L_{ss})],\n",
       "[0,  0,  0,  0, 1, -k_b*sqrt(L_{pp}*L_{ss}), -k_b*sqrt(L_{pp}*L_{ss}), -k_b*sqrt(L_{pp}*L_{ss}), -k_b*sqrt(L_{pp}*L_{ss}),                  -L_{ss}],\n",
       "[1,  0,  0,  0, 0,                        0,                        0,                        0,                        0,                        0],\n",
       "[1, -1,  0,  0, 0,                        0,                        0,                        0,                        0,                        0],\n",
       "[1,  0, -1,  0, 0,                        0,                        0,                        0,                        0,                        0],\n",
       "[1,  0,  0, -1, 0,                        0,                        0,                        0,                        0,                        0],\n",
       "[0,  0,  0,  0, 1,                        0,                        0,                        0,                        0,                        0]]))"
      ]
     },
     "metadata": {},
     "output_type": "display_data"
    },
    {
     "data": {
      "text/latex": [
       "$\\displaystyle \\mathbf{b} = \\left[\\begin{matrix}0\\\\0\\\\0\\\\0\\\\0\\\\u_{e}\\\\0\\\\0\\\\0\\\\0\\end{matrix}\\right]$"
      ],
      "text/plain": [
       "Eq(\\mathbf{b}, Matrix([\n",
       "[  0],\n",
       "[  0],\n",
       "[  0],\n",
       "[  0],\n",
       "[  0],\n",
       "[u_e],\n",
       "[  0],\n",
       "[  0],\n",
       "[  0],\n",
       "[  0]]))"
      ]
     },
     "metadata": {},
     "output_type": "display_data"
    }
   ],
   "source": [
    "A = sp.BlockMatrix([[sp.Identity(n), -L], [E1, E2]])\n",
    "display(sp.Eq(A_, A.as_explicit()))\n",
    "b = sp.BlockMatrix([[sp.zeros(n, 1)], [e]])\n",
    "display(sp.Eq(b_, b.as_explicit()))"
   ]
  },
  {
   "cell_type": "markdown",
   "id": "8aebcd98",
   "metadata": {},
   "source": [
    "Die Lösung dieses Systems ist"
   ]
  },
  {
   "cell_type": "code",
   "execution_count": 5,
   "id": "50ebda65",
   "metadata": {},
   "outputs": [
    {
     "data": {
      "text/latex": [
       "$\\displaystyle \\mathbf{x} = \\left[\\begin{matrix}u_{e}\\\\u_{e}\\\\u_{e}\\\\u_{e}\\\\0\\\\\\frac{u_{e}}{L_{pp} \\left(- k_{a}^{2} + 2 k_{a} k_{b}^{2} + k_{a} - 4 k_{b}^{2} + 1\\right)}\\\\\\frac{u_{e} \\left(1 - k_{a}\\right)}{L_{pp} \\left(- k_{a}^{2} + 2 k_{a} k_{b}^{2} + k_{a} - 4 k_{b}^{2} + 1\\right)}\\\\\\frac{u_{e} \\left(1 - k_{a}\\right)}{L_{pp} \\left(- k_{a}^{2} + 2 k_{a} k_{b}^{2} + k_{a} - 4 k_{b}^{2} + 1\\right)}\\\\\\frac{u_{e}}{L_{pp} \\left(- k_{a}^{2} + 2 k_{a} k_{b}^{2} + k_{a} - 4 k_{b}^{2} + 1\\right)}\\\\\\frac{2 k_{b} u_{e} \\sqrt{L_{pp} L_{ss}} \\left(k_{a} - 2\\right)}{L_{pp} L_{ss} \\left(- k_{a}^{2} + 2 k_{a} k_{b}^{2} + k_{a} - 4 k_{b}^{2} + 1\\right)}\\end{matrix}\\right]$"
      ],
      "text/plain": [
       "Eq(\\mathbf{x}, Matrix([\n",
       "[                                                                                                  u_e],\n",
       "[                                                                                                  u_e],\n",
       "[                                                                                                  u_e],\n",
       "[                                                                                                  u_e],\n",
       "[                                                                                                    0],\n",
       "[                                           u_e/(L_{pp}*(-k_a**2 + 2*k_a*k_b**2 + k_a - 4*k_b**2 + 1))],\n",
       "[                                 u_e*(1 - k_a)/(L_{pp}*(-k_a**2 + 2*k_a*k_b**2 + k_a - 4*k_b**2 + 1))],\n",
       "[                                 u_e*(1 - k_a)/(L_{pp}*(-k_a**2 + 2*k_a*k_b**2 + k_a - 4*k_b**2 + 1))],\n",
       "[                                           u_e/(L_{pp}*(-k_a**2 + 2*k_a*k_b**2 + k_a - 4*k_b**2 + 1))],\n",
       "[2*k_b*u_e*sqrt(L_{pp}*L_{ss})*(k_a - 2)/(L_{pp}*L_{ss}*(-k_a**2 + 2*k_a*k_b**2 + k_a - 4*k_b**2 + 1))]]))"
      ]
     },
     "metadata": {},
     "output_type": "display_data"
    }
   ],
   "source": [
    "solution = A.as_explicit().solve(b.as_explicit())\n",
    "display(sp.Eq(x_, solution.simplify()))"
   ]
  },
  {
   "cell_type": "markdown",
   "id": "e099d8b2",
   "metadata": {},
   "source": [
    "Woraus man nun die Primärseitige Kurzschlussinduktivität bei Parallelschaltung berechnen kann:"
   ]
  },
  {
   "cell_type": "code",
   "execution_count": 6,
   "id": "e2d98bf0",
   "metadata": {
    "scrolled": true
   },
   "outputs": [
    {
     "data": {
      "text/latex": [
       "$\\displaystyle L_{k4\\parallel} = \\frac{L_{pp} \\left(k_{a}^{2} - 2 k_{a} k_{b}^{2} - k_{a} + 4 k_{b}^{2} - 1\\right)}{2 \\left(k_{a} - 2\\right)}$"
      ],
      "text/plain": [
       "Eq(L_{k4\\parallel}, L_{pp}*(k_a**2 - 2*k_a*k_b**2 - k_a + 4*k_b**2 - 1)/(2*(k_a - 2)))"
      ]
     },
     "metadata": {},
     "output_type": "display_data"
    }
   ],
   "source": [
    "L_k1_ = sp.symbols(\"L_{k4\\parallel}\")\n",
    "\n",
    "L_k1 = solution[0]/(sum(solution[5:9]))\n",
    "\n",
    "eq = sp.Eq(L_k1_, L_k1.simplify())\n",
    "display(eq)"
   ]
  },
  {
   "cell_type": "markdown",
   "id": "65c92fb9",
   "metadata": {},
   "source": [
    "Als erstes soll der Grenzfall $k_a\\rightarrow0$ betrachtet werden. Die gemessene Induktivität wird dann"
   ]
  },
  {
   "cell_type": "code",
   "execution_count": 7,
   "id": "2050071a",
   "metadata": {},
   "outputs": [
    {
     "data": {
      "text/latex": [
       "$\\displaystyle L_{pp} \\left(\\frac{1}{4} - k_{b}^{2}\\right)$"
      ],
      "text/plain": [
       "L_{pp}*(1/4 - k_b**2)"
      ]
     },
     "execution_count": 7,
     "metadata": {},
     "output_type": "execute_result"
    }
   ],
   "source": [
    "L_k1.subs({k_a: 0.0}).simplify()"
   ]
  },
  {
   "cell_type": "markdown",
   "id": "8ae73a09",
   "metadata": {},
   "source": [
    "Für eine verschwindende Eingangsimpedanz müsste also $k_b = \\frac{1}{2}$ sein. Das entspricht auch den Erwartungen für einen solchen Aufbau bei perfekter Kopplung:\n",
    "\n",
    "  * Der Flusskoppelfaktor von einer Primärspule zur Sekundärspule ist $k_{ps} = 1$, da der gesamte Fluss, der durch die Primärspule geht, auch durch die Sekundärspule geht.\n",
    "  * Der Flusskoppelfaktor in die andere Richtung beträgt $k_{sp} = \\frac{1}{4}$: Ein Viertel des Flusses der Sekundärspule geht durch eine Primärspule\n",
    "  \n",
    "Der kombinierte Koppelfaktor ist somit:\n",
    "\n",
    "$$\n",
    "k = \\sqrt{k_{sp}k_{ps}} = \\sqrt{1*\\frac{1}{4}} = \\frac{1}{2}\n",
    "$$\n",
    "\n",
    "Setzt man nun $k_a > 0$, z.B. $k_a = 1\\%$, wird die gemessene Induktivität"
   ]
  },
  {
   "cell_type": "code",
   "execution_count": 18,
   "id": "b5d58d9c",
   "metadata": {},
   "outputs": [
    {
     "data": {
      "text/latex": [
       "$\\displaystyle 0.00374371859296482 L_{pp}$"
      ],
      "text/plain": [
       "0.00374371859296482*L_{pp}"
      ]
     },
     "execution_count": 18,
     "metadata": {},
     "output_type": "execute_result"
    }
   ],
   "source": [
    "L_k1.subs({k_a: 0.01, k_b: 0.5}).simplify()"
   ]
  },
  {
   "cell_type": "markdown",
   "id": "2057e483",
   "metadata": {},
   "source": [
    "$k_b$ müsste also etwas größer werden, damit die Eingangsinduktivität wieder verschwindet."
   ]
  },
  {
   "cell_type": "markdown",
   "id": "89100108",
   "metadata": {},
   "source": [
    "## Eingangsinduktivität bei Kurzschluss aller anderer Wicklungen"
   ]
  },
  {
   "cell_type": "code",
   "execution_count": 9,
   "id": "50cbd128",
   "metadata": {},
   "outputs": [
    {
     "data": {
      "text/latex": [
       "$\\displaystyle \\mathbf{x} = \\left[\\begin{matrix}u_{e}\\\\0\\\\0\\\\0\\\\0\\\\\\frac{u_{e} \\left(- 2 k_{a}^{2} + 4 k_{a} k_{b}^{2} - 3 k_{b}^{2} + 1\\right)}{L_{pp} \\left(k_{a}^{4} - 2 k_{a}^{3} k_{b}^{2} + 2 k_{a}^{2} k_{b}^{2} - 3 k_{a}^{2} + 6 k_{a} k_{b}^{2} - 4 k_{b}^{2} + 1\\right)}\\\\\\frac{u_{e} \\left(k_{a}^{3} - 2 k_{a}^{2} k_{b}^{2} + k_{a} k_{b}^{2} - k_{a} + k_{b}^{2}\\right)}{L_{pp} \\left(k_{a}^{4} - 2 k_{a}^{3} k_{b}^{2} + 2 k_{a}^{2} k_{b}^{2} - 3 k_{a}^{2} + 6 k_{a} k_{b}^{2} - 4 k_{b}^{2} + 1\\right)}\\\\\\frac{u_{e} \\left(k_{a}^{2} - 3 k_{a} k_{b}^{2} + k_{b}^{2}\\right)}{L_{pp} \\left(k_{a}^{4} - 2 k_{a}^{3} k_{b}^{2} + 2 k_{a}^{2} k_{b}^{2} - 3 k_{a}^{2} + 6 k_{a} k_{b}^{2} - 4 k_{b}^{2} + 1\\right)}\\\\\\frac{u_{e} \\left(- k_{a}^{3} + 2 k_{a}^{2} k_{b}^{2} - 2 k_{a} k_{b}^{2} + k_{b}^{2}\\right)}{L_{pp} \\left(k_{a}^{4} - 2 k_{a}^{3} k_{b}^{2} + 2 k_{a}^{2} k_{b}^{2} - 3 k_{a}^{2} + 6 k_{a} k_{b}^{2} - 4 k_{b}^{2} + 1\\right)}\\\\\\frac{k_{b} u_{e} \\sqrt{L_{pp} L_{ss}}}{L_{pp} L_{ss} \\left(k_{a}^{2} - 2 k_{a} k_{b}^{2} - k_{a} + 4 k_{b}^{2} - 1\\right)}\\end{matrix}\\right]$"
      ],
      "text/plain": [
       "Eq(\\mathbf{x}, Matrix([\n",
       "[                                                                                                                                                      u_e],\n",
       "[                                                                                                                                                        0],\n",
       "[                                                                                                                                                        0],\n",
       "[                                                                                                                                                        0],\n",
       "[                                                                                                                                                        0],\n",
       "[             u_e*(-2*k_a**2 + 4*k_a*k_b**2 - 3*k_b**2 + 1)/(L_{pp}*(k_a**4 - 2*k_a**3*k_b**2 + 2*k_a**2*k_b**2 - 3*k_a**2 + 6*k_a*k_b**2 - 4*k_b**2 + 1))],\n",
       "[u_e*(k_a**3 - 2*k_a**2*k_b**2 + k_a*k_b**2 - k_a + k_b**2)/(L_{pp}*(k_a**4 - 2*k_a**3*k_b**2 + 2*k_a**2*k_b**2 - 3*k_a**2 + 6*k_a*k_b**2 - 4*k_b**2 + 1))],\n",
       "[                      u_e*(k_a**2 - 3*k_a*k_b**2 + k_b**2)/(L_{pp}*(k_a**4 - 2*k_a**3*k_b**2 + 2*k_a**2*k_b**2 - 3*k_a**2 + 6*k_a*k_b**2 - 4*k_b**2 + 1))],\n",
       "[   u_e*(-k_a**3 + 2*k_a**2*k_b**2 - 2*k_a*k_b**2 + k_b**2)/(L_{pp}*(k_a**4 - 2*k_a**3*k_b**2 + 2*k_a**2*k_b**2 - 3*k_a**2 + 6*k_a*k_b**2 - 4*k_b**2 + 1))],\n",
       "[                                                                 k_b*u_e*sqrt(L_{pp}*L_{ss})/(L_{pp}*L_{ss}*(k_a**2 - 2*k_a*k_b**2 - k_a + 4*k_b**2 - 1))]]))"
      ]
     },
     "metadata": {},
     "output_type": "display_data"
    },
    {
     "data": {
      "text/latex": [
       "$\\displaystyle L_{k2} = \\frac{L_{pp} \\left(- k_{a}^{4} + 2 k_{a}^{3} k_{b}^{2} - 2 k_{a}^{2} k_{b}^{2} + 3 k_{a}^{2} - 6 k_{a} k_{b}^{2} + 4 k_{b}^{2} - 1\\right)}{2 k_{a}^{2} - 4 k_{a} k_{b}^{2} + 3 k_{b}^{2} - 1}$"
      ],
      "text/plain": [
       "Eq(L_{k2}, L_{pp}*(-k_a**4 + 2*k_a**3*k_b**2 - 2*k_a**2*k_b**2 + 3*k_a**2 - 6*k_a*k_b**2 + 4*k_b**2 - 1)/(2*k_a**2 - 4*k_a*k_b**2 + 3*k_b**2 - 1))"
      ]
     },
     "metadata": {},
     "output_type": "display_data"
    }
   ],
   "source": [
    "L_k2_ = sp.symbols(\"L_{k2}\")\n",
    "\n",
    "E1 = sp.Matrix([\n",
    "    [1,  0, 0, 0, 0],\n",
    "    [0,  1, 0, 0, 0],\n",
    "    [0,  0, 1, 0, 0],\n",
    "    [0,  0, 0, 1, 0],\n",
    "    [0,  0, 0, 0, 1],\n",
    "])\n",
    "\n",
    "\n",
    "E2 = sp.Matrix([\n",
    "    [0, 0, 0, 0, 0],\n",
    "    [0, 0, 0, 0, 0],\n",
    "    [0, 0, 0, 0, 0],\n",
    "    [0, 0, 0, 0, 0],\n",
    "    [0, 0, 0, 0, 0],\n",
    "])\n",
    "\n",
    "e = sp.Matrix([u_e, 0, 0, 0, 0])\n",
    "\n",
    "A = sp.BlockMatrix([[sp.Identity(n), -L], [E1, E2]])\n",
    "b = sp.BlockMatrix([[sp.zeros(n, 1)], [e]])\n",
    "solution = A.as_explicit().solve(b.as_explicit())\n",
    "display(sp.Eq(x_, solution.simplify()))\n",
    "\n",
    "\n",
    "L_k2 = solution[0]/solution[5]\n",
    "display(sp.Eq(L_k2_, L_k2.simplify()))"
   ]
  },
  {
   "cell_type": "markdown",
   "id": "09f3e3f6",
   "metadata": {},
   "source": [
    "Diese Induktivität kann man nun mit der vorherigen Induktivität vergleichen, bei der die vier Primärwicklungen parallel geschaltet sind:"
   ]
  },
  {
   "cell_type": "code",
   "execution_count": 10,
   "id": "1a26a7c5",
   "metadata": {},
   "outputs": [
    {
     "data": {
      "text/latex": [
       "$\\displaystyle \\frac{L_{k2}}{L_{k4\\parallel}} = \\frac{2 \\left(- k_{a}^{3} + k_{a}^{2} + 3 k_{a} - 2\\right)}{2 k_{a}^{2} - 4 k_{a} k_{b}^{2} + 3 k_{b}^{2} - 1}$"
      ],
      "text/plain": [
       "Eq(L_{k2}/L_{k4\\parallel}, 2*(-k_a**3 + k_a**2 + 3*k_a - 2)/(2*k_a**2 - 4*k_a*k_b**2 + 3*k_b**2 - 1))"
      ]
     },
     "metadata": {},
     "output_type": "display_data"
    }
   ],
   "source": [
    "ratio = (L_k2/L_k1).simplify()\n",
    "\n",
    "display(sp.Eq(L_k2_/L_k1_, ratio))"
   ]
  },
  {
   "cell_type": "markdown",
   "id": "102de8b6",
   "metadata": {},
   "source": [
    "Im Grenzfall $k_a \\rightarrow 0$ ist dieses Verhältnis"
   ]
  },
  {
   "cell_type": "code",
   "execution_count": 11,
   "id": "1bbc6aa8",
   "metadata": {
    "scrolled": false
   },
   "outputs": [
    {
     "data": {
      "text/latex": [
       "$\\displaystyle - \\frac{4}{3 k_{b}^{2} - 1}$"
      ],
      "text/plain": [
       "-4/(3*k_b**2 - 1)"
      ]
     },
     "execution_count": 11,
     "metadata": {},
     "output_type": "execute_result"
    }
   ],
   "source": [
    "ratio.subs({k_a: 0}).simplify()"
   ]
  },
  {
   "cell_type": "markdown",
   "id": "7805e30f",
   "metadata": {},
   "source": [
    "Was für perfekte Kopplung $k_b = \\frac{1}{2}$"
   ]
  },
  {
   "cell_type": "code",
   "execution_count": 12,
   "id": "03f3a5fd",
   "metadata": {},
   "outputs": [
    {
     "data": {
      "text/latex": [
       "$\\displaystyle 16.0$"
      ],
      "text/plain": [
       "16.0000000000000"
      ]
     },
     "execution_count": 12,
     "metadata": {},
     "output_type": "execute_result"
    }
   ],
   "source": [
    "ratio.subs({k_a: 0, k_b: 1/2}).simplify()"
   ]
  },
  {
   "cell_type": "markdown",
   "id": "553bf3f3",
   "metadata": {},
   "source": [
    "ist.\n",
    "\n",
    "Setzt man aber nun bspw. $k_a = 1\\%$ und $k_b = 49\\%$ ergibt sich ein kleineres Verhältnis:"
   ]
  },
  {
   "cell_type": "code",
   "execution_count": 19,
   "id": "8c844827",
   "metadata": {},
   "outputs": [
    {
     "data": {
      "text/latex": [
       "$\\displaystyle 15.1647498075443$"
      ],
      "text/plain": [
       "15.1647498075443"
      ]
     },
     "execution_count": 19,
     "metadata": {},
     "output_type": "execute_result"
    }
   ],
   "source": [
    "ratio.subs({k_a: 0.01, k_b: 0.5}).simplify()"
   ]
  },
  {
   "cell_type": "markdown",
   "id": "6deaa212",
   "metadata": {},
   "source": [
    "## Drei parallel geschaltete Wicklungen"
   ]
  },
  {
   "cell_type": "code",
   "execution_count": 14,
   "id": "8c3a7446",
   "metadata": {},
   "outputs": [
    {
     "data": {
      "text/latex": [
       "$\\displaystyle \\mathbf{x} = \\left[\\begin{matrix}u_{e}\\\\u_{e}\\\\u_{e}\\\\\\frac{u_{e} \\left(k_{a}^{2} - 4 k_{a} k_{b}^{2} - k_{a} + 3 k_{b}^{2}\\right)}{2 k_{a}^{2} - 4 k_{a} k_{b}^{2} + 3 k_{b}^{2} - 1}\\\\0\\\\\\frac{u_{e} \\left(k_{a} - 1\\right)}{L_{pp} \\left(2 k_{a}^{2} - 4 k_{a} k_{b}^{2} + 3 k_{b}^{2} - 1\\right)}\\\\\\frac{u_{e} \\left(2 k_{a} - 1\\right)}{L_{pp} \\left(2 k_{a}^{2} - 4 k_{a} k_{b}^{2} + 3 k_{b}^{2} - 1\\right)}\\\\\\frac{u_{e} \\left(k_{a} - 1\\right)}{L_{pp} \\left(2 k_{a}^{2} - 4 k_{a} k_{b}^{2} + 3 k_{b}^{2} - 1\\right)}\\\\0\\\\\\frac{k_{b} u_{e} \\sqrt{L_{pp} L_{ss}} \\left(3 - 4 k_{a}\\right)}{L_{pp} L_{ss} \\left(2 k_{a}^{2} - 4 k_{a} k_{b}^{2} + 3 k_{b}^{2} - 1\\right)}\\end{matrix}\\right]$"
      ],
      "text/plain": [
       "Eq(\\mathbf{x}, Matrix([\n",
       "[                                                                                             u_e],\n",
       "[                                                                                             u_e],\n",
       "[                                                                                             u_e],\n",
       "[           u_e*(k_a**2 - 4*k_a*k_b**2 - k_a + 3*k_b**2)/(2*k_a**2 - 4*k_a*k_b**2 + 3*k_b**2 - 1)],\n",
       "[                                                                                               0],\n",
       "[                                 u_e*(k_a - 1)/(L_{pp}*(2*k_a**2 - 4*k_a*k_b**2 + 3*k_b**2 - 1))],\n",
       "[                               u_e*(2*k_a - 1)/(L_{pp}*(2*k_a**2 - 4*k_a*k_b**2 + 3*k_b**2 - 1))],\n",
       "[                                 u_e*(k_a - 1)/(L_{pp}*(2*k_a**2 - 4*k_a*k_b**2 + 3*k_b**2 - 1))],\n",
       "[                                                                                               0],\n",
       "[k_b*u_e*sqrt(L_{pp}*L_{ss})*(3 - 4*k_a)/(L_{pp}*L_{ss}*(2*k_a**2 - 4*k_a*k_b**2 + 3*k_b**2 - 1))]]))"
      ]
     },
     "metadata": {},
     "output_type": "display_data"
    },
    {
     "data": {
      "text/latex": [
       "$\\displaystyle L_{k3\\parallel} = \\frac{L_{pp} \\left(2 k_{a}^{2} - 4 k_{a} k_{b}^{2} + 3 k_{b}^{2} - 1\\right)}{4 k_{a} - 3}$"
      ],
      "text/plain": [
       "Eq(L_{k3\\parallel}, L_{pp}*(2*k_a**2 - 4*k_a*k_b**2 + 3*k_b**2 - 1)/(4*k_a - 3))"
      ]
     },
     "metadata": {},
     "output_type": "display_data"
    }
   ],
   "source": [
    "L_k3_ = sp.symbols(\"L_{k3\\parallel}\")\n",
    "\n",
    "E1 = sp.Matrix([\n",
    "    [1,  0,  0, 0, 0],\n",
    "    [1, -1,  0, 0, 0],\n",
    "    [1,  0, -1, 0, 0],\n",
    "    [0,  0,  0, 0, 0],\n",
    "    [0,  0,  0, 0, 1],\n",
    "])\n",
    "\n",
    "\n",
    "E2 = sp.Matrix([\n",
    "    [0, 0, 0, 0, 0],\n",
    "    [0, 0, 0, 0, 0],\n",
    "    [0, 0, 0, 0, 0],\n",
    "    [0, 0, 0, 1, 0],\n",
    "    [0, 0, 0, 0, 0],\n",
    "])\n",
    "\n",
    "e = sp.Matrix([u_e, 0, 0, 0, 0])\n",
    "\n",
    "A = sp.BlockMatrix([[sp.Identity(n), -L], [E1, E2]])\n",
    "b = sp.BlockMatrix([[sp.zeros(n, 1)], [e]])\n",
    "solution = A.as_explicit().solve(b.as_explicit())\n",
    "display(sp.Eq(x_, solution.simplify()))\n",
    "\n",
    "\n",
    "L_k3 = solution[0]/sum(solution[5:9])\n",
    "display(sp.Eq(L_k3_, L_k3.simplify()))"
   ]
  },
  {
   "cell_type": "code",
   "execution_count": 15,
   "id": "7a03fd07",
   "metadata": {},
   "outputs": [
    {
     "data": {
      "text/latex": [
       "$\\displaystyle - 1.11022302462516 \\cdot 10^{-16} L_{pp}$"
      ],
      "text/plain": [
       "-1.11022302462516e-16*L_{pp}"
      ]
     },
     "execution_count": 15,
     "metadata": {},
     "output_type": "execute_result"
    }
   ],
   "source": [
    "# Die gemessene Induktivität wird 0 für\n",
    "\n",
    "L_k3.subs({k_a: 0, k_b: 1/np.sqrt(3)})"
   ]
  },
  {
   "cell_type": "markdown",
   "id": "dea24406",
   "metadata": {},
   "source": [
    "## Zur Verifikation: In Reihe geschaltete Primäreseite"
   ]
  },
  {
   "cell_type": "code",
   "execution_count": 16,
   "id": "a50ddff6",
   "metadata": {},
   "outputs": [
    {
     "data": {
      "text/latex": [
       "$\\displaystyle \\mathbf{x} = \\left[\\begin{matrix}u_{e}\\\\\\frac{u_{e} \\left(2 k_{a} - 4 k_{b}^{2} + 1\\right)}{k_{a} - 4 k_{b}^{2} + 1}\\\\\\frac{u_{e} \\left(2 k_{a} - 4 k_{b}^{2} + 1\\right)}{k_{a} - 4 k_{b}^{2} + 1}\\\\u_{e}\\\\0\\\\\\frac{u_{e}}{L_{pp} \\left(k_{a} - 4 k_{b}^{2} + 1\\right)}\\\\\\frac{u_{e}}{L_{pp} \\left(k_{a} - 4 k_{b}^{2} + 1\\right)}\\\\\\frac{u_{e}}{L_{pp} \\left(k_{a} - 4 k_{b}^{2} + 1\\right)}\\\\\\frac{u_{e}}{L_{pp} \\left(k_{a} - 4 k_{b}^{2} + 1\\right)}\\\\- \\frac{4 k_{b} u_{e} \\sqrt{L_{pp} L_{ss}}}{L_{pp} L_{ss} \\left(k_{a} - 4 k_{b}^{2} + 1\\right)}\\end{matrix}\\right]$"
      ],
      "text/plain": [
       "Eq(\\mathbf{x}, Matrix([\n",
       "[                                                                u_e],\n",
       "[                    u_e*(2*k_a - 4*k_b**2 + 1)/(k_a - 4*k_b**2 + 1)],\n",
       "[                    u_e*(2*k_a - 4*k_b**2 + 1)/(k_a - 4*k_b**2 + 1)],\n",
       "[                                                                u_e],\n",
       "[                                                                  0],\n",
       "[                                  u_e/(L_{pp}*(k_a - 4*k_b**2 + 1))],\n",
       "[                                  u_e/(L_{pp}*(k_a - 4*k_b**2 + 1))],\n",
       "[                                  u_e/(L_{pp}*(k_a - 4*k_b**2 + 1))],\n",
       "[                                  u_e/(L_{pp}*(k_a - 4*k_b**2 + 1))],\n",
       "[-4*k_b*u_e*sqrt(L_{pp}*L_{ss})/(L_{pp}*L_{ss}*(k_a - 4*k_b**2 + 1))]]))"
      ]
     },
     "metadata": {},
     "output_type": "display_data"
    },
    {
     "data": {
      "text/latex": [
       "$\\displaystyle L_{pp} k_{a} - 4 L_{pp} k_{b}^{2} + L_{pp}$"
      ],
      "text/plain": [
       "L_{pp}*k_a - 4*L_{pp}*k_b**2 + L_{pp}"
      ]
     },
     "metadata": {},
     "output_type": "display_data"
    },
    {
     "data": {
      "text/latex": [
       "$\\displaystyle L_{k4} = L_{pp} \\left(k_{a} - 4 k_{b}^{2} + 1\\right)$"
      ],
      "text/plain": [
       "Eq(L_{k4}, L_{pp}*(k_a - 4*k_b**2 + 1))"
      ]
     },
     "metadata": {},
     "output_type": "display_data"
    }
   ],
   "source": [
    "L_k4_ = sp.symbols(\"L_{k4}\")\n",
    "\n",
    "E1 = sp.Matrix([\n",
    "    [1,  0,  0, 0, 0],\n",
    "    [0,  0,  0, 0, 0],\n",
    "    [0,  0,  0, 0, 0],\n",
    "    [0,  0,  0, 0, 0],\n",
    "    [0,  0,  0, 0, 1],\n",
    "])\n",
    "\n",
    "\n",
    "E2 = sp.Matrix([\n",
    "    [0, 0, 0, 0, 0],\n",
    "    [1, -1, 0, 0, 0],\n",
    "    [1, 0, -1, 0, 0],\n",
    "    [1, 0, 0, -1, 0],\n",
    "    [0, 0, 0, 0, 0],\n",
    "])\n",
    "\n",
    "e = sp.Matrix([u_e, 0, 0, 0, 0])\n",
    "\n",
    "A = sp.BlockMatrix([[sp.Identity(n), -L], [E1, E2]])\n",
    "b = sp.BlockMatrix([[sp.zeros(n, 1)], [e]])\n",
    "solution = A.as_explicit().solve(b.as_explicit())\n",
    "display(sp.Eq(x_, solution.simplify()))\n",
    "\n",
    "\n",
    "L_k4 = solution[0]/solution[5]\n",
    "display(L_k4)\n",
    "display(sp.Eq(L_k4_, L_k4.simplify()))"
   ]
  }
 ],
 "metadata": {
  "_notebook_id_": "8b59783a-3508-4940-b840-1c395842c32d",
  "kernelspec": {
   "display_name": "Python 3 (ipykernel)",
   "language": "python",
   "name": "python3"
  },
  "language_info": {
   "codemirror_mode": {
    "name": "ipython",
    "version": 3
   },
   "file_extension": ".py",
   "mimetype": "text/x-python",
   "name": "python",
   "nbconvert_exporter": "python",
   "pygments_lexer": "ipython3",
   "version": "3.8.6"
  }
 },
 "nbformat": 4,
 "nbformat_minor": 5
}